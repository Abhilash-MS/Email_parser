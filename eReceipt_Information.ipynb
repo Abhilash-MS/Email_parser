{
 "cells": [
  {
   "cell_type": "code",
   "execution_count": 14,
   "id": "f57acb69",
   "metadata": {},
   "outputs": [
    {
     "data": {
      "text/plain": [
       "{'shipping_address': '500 Elkview Drive Miami, FL 33169, US',\n",
       " 'products': [{'product_description': 'The Fine Printby Lauren AsherPaperback',\n",
       "   'product_quantity': '1',\n",
       "   'product_price': '$14.99',\n",
       "   'est_delivery_date': '10/21/2022'},\n",
       "  {'product_description': 'Twisted Love - Special Edition (Twisted Series #1)by Ana HuangPaperback',\n",
       "   'product_quantity': '1',\n",
       "   'product_price': '$13.99',\n",
       "   'est_delivery_date': '10/21/2022'},\n",
       "  {'product_description': 'Ice Planet Barbariansby Ruby DixonPaperback',\n",
       "   'product_quantity': '1',\n",
       "   'product_price': '$14.40',\n",
       "   'est_delivery_date': '10/22/2022'}],\n",
       " 'order_total': '$46.83'}"
      ]
     },
     "execution_count": 14,
     "metadata": {},
     "output_type": "execute_result"
    }
   ],
   "source": [
    "from bs4 import BeautifulSoup\n",
    "\n",
    "def extract_key_information(html_content):\n",
    "    key_info = {}\n",
    "    soup = BeautifulSoup(html_content, 'html.parser')\n",
    "\n",
    "    # Extracting order summary information\n",
    "    order_summary_table = soup.find('td', text='Order Summary')\n",
    "    if order_summary_table:\n",
    "        order_info = order_summary_table.find_next('td')\n",
    "        key_info['order_no'] = order_info.get_text(strip=True)\n",
    "\n",
    "    # Extracting shipping information\n",
    "    shipping_info_table = soup.find('strong', text='Ship To')\n",
    "    if shipping_info_table:\n",
    "        shipping_info = shipping_info_table.parent\n",
    "        key_info['shipping_address'] = shipping_info.get_text(strip=True).replace('Ship To:', '').strip()\n",
    "\n",
    "    # Extracting product information\n",
    "    product_table = soup.find('th', text='Item')\n",
    "    if product_table:\n",
    "        products = product_table.find_parent('tbody').find_all('tr')[1:]\n",
    "        key_info['products'] = []\n",
    "\n",
    "        for product in products:\n",
    "            cols = product.find_all('td')\n",
    "            product_data = {\n",
    "                'product_description': cols[1].get_text(strip=True),\n",
    "                'product_quantity': cols[2].get_text(strip=True),\n",
    "                'product_price': cols[3].get_text(strip=True),\n",
    "                'est_delivery_date': cols[4].get_text(strip=True)\n",
    "            }\n",
    "            key_info['products'].append(product_data)\n",
    "\n",
    "    # Extracting order total information\n",
    "    order_total_table = soup.find('strong', text='Order Total:')\n",
    "    if order_total_table:\n",
    "        order_total = order_total_table.parent\n",
    "        key_info['order_total'] = order_total.get_text(strip=True).replace('Order Total:', '').strip()\n",
    "\n",
    "    return key_info\n",
    "\n",
    "def read_html_file(file_path):\n",
    "    with open(file_path, 'r', encoding='utf-8') as file:\n",
    "        return file.read()\n",
    "\n",
    "# Replace 'your_file_path.html' with the actual file path of your HTML file\n",
    "file_path = '/Users/abhilash/Desktop/Email Identifier/eReceipt.html'\n",
    "html_content = read_html_file(file_path)\n",
    "key_information = extract_key_information(html_content)\n",
    "\n",
    "\n",
    "key_information"
   ]
  }
 ],
 "metadata": {
  "kernelspec": {
   "display_name": "Python 3 (ipykernel)",
   "language": "python",
   "name": "python3"
  },
  "language_info": {
   "codemirror_mode": {
    "name": "ipython",
    "version": 3
   },
   "file_extension": ".py",
   "mimetype": "text/x-python",
   "name": "python",
   "nbconvert_exporter": "python",
   "pygments_lexer": "ipython3",
   "version": "3.9.7"
  }
 },
 "nbformat": 4,
 "nbformat_minor": 5
}
